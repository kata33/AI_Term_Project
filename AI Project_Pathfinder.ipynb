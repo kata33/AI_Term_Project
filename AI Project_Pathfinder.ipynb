{
 "cells": [
  {
   "cell_type": "code",
   "execution_count": null,
   "metadata": {},
   "outputs": [],
   "source": [
    "#*****************************************************************************************************************************\n",
    "#Project   : Path Finder                                                                                                     #\n",
    "#Author    : Kata Revanth                                                                                                    #\n",
    "#            Sri ram Alluri                                                                                                  #\n",
    "#            Lavanya Chadwalada                                                                                              #\n",
    "#Objective : The Main Objective of the project is to demonstrate the Q-Learning Model in finding the optimal path to reach   #\n",
    "#the Goal State from any particular state in the Environment                                                                 #\n",
    "#Approach  : 1)Design the path Grid(for Visualization)                                                                       #\n",
    "#            2)Build Reward Matrix                                                                                           #\n",
    "#            3)Build Q-Learning Model using Bellmen Equation                                                                 #\n",
    "#            4)Build Q-Learning Model using Heuristic Fuction                                                                #\n",
    "#            5)Compare the Perfomance of Both models                                                                         #\n",
    "#            6)Evaluate the Metrics of the Q-Lerning Models                                                                  #\n",
    "#*****************************************************************************************************************************"
   ]
  },
  {
   "cell_type": "markdown",
   "metadata": {},
   "source": [
    "## Importing required libraries"
   ]
  },
  {
   "cell_type": "code",
   "execution_count": 1,
   "metadata": {},
   "outputs": [],
   "source": [
    "import pandas as pd\n",
    "import random\n",
    "import numpy as np\n",
    "import matplotlib.pyplot as plt"
   ]
  },
  {
   "cell_type": "markdown",
   "metadata": {},
   "source": [
    "## Grid environment where the agent is to be trained \n",
    "- There were 10 states and 1 Goal state in the grid for the agent to learn "
   ]
  },
  {
   "attachments": {
    "Path%20Finder.png": {
     "image/png": "[encoded data removed]"
    }
   },
   "cell_type": "markdown",
   "metadata": {},
   "source": [
    "![Path%20Finder.png](attachment:Path%20Finder.png)"
   ]
  },
  {
   "cell_type": "markdown",
   "metadata": {},
   "source": [
    "## Creating the reward matrix for each state and action in the grid"
   ]
  },
  {
   "cell_type": "code",
   "execution_count": 2,
   "metadata": {},
   "outputs": [
    {
     "data": {
      "text/html": [
       "<div>\n",
       "<style scoped>\n",
       "    .dataframe tbody tr th:only-of-type {\n",
       "        vertical-align: middle;\n",
       "    }\n",
       "\n",
       "    .dataframe tbody tr th {\n",
       "        vertical-align: top;\n",
       "    }\n",
       "\n",
       "    .dataframe thead th {\n",
       "        text-align: right;\n",
       "    }\n",
       "</style>\n",
       "<table border=\"1\" class=\"dataframe\">\n",
       "  <thead>\n",
       "    <tr style=\"text-align: right;\">\n",
       "      <th></th>\n",
       "      <th>0</th>\n",
       "      <th>1</th>\n",
       "      <th>2</th>\n",
       "      <th>3</th>\n",
       "      <th>4</th>\n",
       "      <th>5</th>\n",
       "      <th>6</th>\n",
       "      <th>7</th>\n",
       "      <th>8</th>\n",
       "      <th>9</th>\n",
       "      <th>10</th>\n",
       "    </tr>\n",
       "  </thead>\n",
       "  <tbody>\n",
       "    <tr>\n",
       "      <th>0</th>\n",
       "      <td>-1</td>\n",
       "      <td>-1</td>\n",
       "      <td>-1</td>\n",
       "      <td>-1</td>\n",
       "      <td>0</td>\n",
       "      <td>-1</td>\n",
       "      <td>-1</td>\n",
       "      <td>-1</td>\n",
       "      <td>-1</td>\n",
       "      <td>-1</td>\n",
       "      <td>-1</td>\n",
       "    </tr>\n",
       "    <tr>\n",
       "      <th>1</th>\n",
       "      <td>-1</td>\n",
       "      <td>-1</td>\n",
       "      <td>-1</td>\n",
       "      <td>0</td>\n",
       "      <td>-1</td>\n",
       "      <td>100</td>\n",
       "      <td>-1</td>\n",
       "      <td>-1</td>\n",
       "      <td>-1</td>\n",
       "      <td>-1</td>\n",
       "      <td>-1</td>\n",
       "    </tr>\n",
       "    <tr>\n",
       "      <th>2</th>\n",
       "      <td>-1</td>\n",
       "      <td>-1</td>\n",
       "      <td>-1</td>\n",
       "      <td>0</td>\n",
       "      <td>-1</td>\n",
       "      <td>-1</td>\n",
       "      <td>0</td>\n",
       "      <td>-1</td>\n",
       "      <td>-1</td>\n",
       "      <td>-1</td>\n",
       "      <td>-1</td>\n",
       "    </tr>\n",
       "    <tr>\n",
       "      <th>3</th>\n",
       "      <td>-1</td>\n",
       "      <td>0</td>\n",
       "      <td>0</td>\n",
       "      <td>-1</td>\n",
       "      <td>0</td>\n",
       "      <td>-1</td>\n",
       "      <td>-1</td>\n",
       "      <td>-1</td>\n",
       "      <td>-1</td>\n",
       "      <td>0</td>\n",
       "      <td>-1</td>\n",
       "    </tr>\n",
       "    <tr>\n",
       "      <th>4</th>\n",
       "      <td>0</td>\n",
       "      <td>-1</td>\n",
       "      <td>-1</td>\n",
       "      <td>0</td>\n",
       "      <td>-1</td>\n",
       "      <td>-1</td>\n",
       "      <td>-1</td>\n",
       "      <td>-1</td>\n",
       "      <td>0</td>\n",
       "      <td>-1</td>\n",
       "      <td>-1</td>\n",
       "    </tr>\n",
       "    <tr>\n",
       "      <th>5</th>\n",
       "      <td>-1</td>\n",
       "      <td>0</td>\n",
       "      <td>-1</td>\n",
       "      <td>-1</td>\n",
       "      <td>-1</td>\n",
       "      <td>-1</td>\n",
       "      <td>-1</td>\n",
       "      <td>0</td>\n",
       "      <td>-1</td>\n",
       "      <td>-1</td>\n",
       "      <td>-1</td>\n",
       "    </tr>\n",
       "    <tr>\n",
       "      <th>6</th>\n",
       "      <td>-1</td>\n",
       "      <td>-1</td>\n",
       "      <td>0</td>\n",
       "      <td>-1</td>\n",
       "      <td>-1</td>\n",
       "      <td>-1</td>\n",
       "      <td>-1</td>\n",
       "      <td>0</td>\n",
       "      <td>-1</td>\n",
       "      <td>-1</td>\n",
       "      <td>-1</td>\n",
       "    </tr>\n",
       "    <tr>\n",
       "      <th>7</th>\n",
       "      <td>-1</td>\n",
       "      <td>-1</td>\n",
       "      <td>-1</td>\n",
       "      <td>-1</td>\n",
       "      <td>-1</td>\n",
       "      <td>0</td>\n",
       "      <td>0</td>\n",
       "      <td>-1</td>\n",
       "      <td>-1</td>\n",
       "      <td>-1</td>\n",
       "      <td>-1</td>\n",
       "    </tr>\n",
       "    <tr>\n",
       "      <th>8</th>\n",
       "      <td>-1</td>\n",
       "      <td>-1</td>\n",
       "      <td>-1</td>\n",
       "      <td>-1</td>\n",
       "      <td>0</td>\n",
       "      <td>-1</td>\n",
       "      <td>-1</td>\n",
       "      <td>-1</td>\n",
       "      <td>-1</td>\n",
       "      <td>0</td>\n",
       "      <td>-1</td>\n",
       "    </tr>\n",
       "    <tr>\n",
       "      <th>9</th>\n",
       "      <td>-1</td>\n",
       "      <td>-1</td>\n",
       "      <td>-1</td>\n",
       "      <td>0</td>\n",
       "      <td>-1</td>\n",
       "      <td>-1</td>\n",
       "      <td>-1</td>\n",
       "      <td>-1</td>\n",
       "      <td>0</td>\n",
       "      <td>-1</td>\n",
       "      <td>0</td>\n",
       "    </tr>\n",
       "    <tr>\n",
       "      <th>10</th>\n",
       "      <td>-1</td>\n",
       "      <td>-1</td>\n",
       "      <td>-1</td>\n",
       "      <td>-1</td>\n",
       "      <td>-1</td>\n",
       "      <td>-1</td>\n",
       "      <td>-1</td>\n",
       "      <td>-1</td>\n",
       "      <td>-1</td>\n",
       "      <td>0</td>\n",
       "      <td>-1</td>\n",
       "    </tr>\n",
       "  </tbody>\n",
       "</table>\n",
       "</div>"
      ],
      "text/plain": [
       "    0   1   2   3   4    5   6   7   8   9   10\n",
       "0   -1  -1  -1  -1   0   -1  -1  -1  -1  -1  -1\n",
       "1   -1  -1  -1   0  -1  100  -1  -1  -1  -1  -1\n",
       "2   -1  -1  -1   0  -1   -1   0  -1  -1  -1  -1\n",
       "3   -1   0   0  -1   0   -1  -1  -1  -1   0  -1\n",
       "4    0  -1  -1   0  -1   -1  -1  -1   0  -1  -1\n",
       "5   -1   0  -1  -1  -1   -1  -1   0  -1  -1  -1\n",
       "6   -1  -1   0  -1  -1   -1  -1   0  -1  -1  -1\n",
       "7   -1  -1  -1  -1  -1    0   0  -1  -1  -1  -1\n",
       "8   -1  -1  -1  -1   0   -1  -1  -1  -1   0  -1\n",
       "9   -1  -1  -1   0  -1   -1  -1  -1   0  -1   0\n",
       "10  -1  -1  -1  -1  -1   -1  -1  -1  -1   0  -1"
      ]
     },
     "execution_count": 2,
     "metadata": {},
     "output_type": "execute_result"
    }
   ],
   "source": [
    "rewards = np.array([[-1,-1,-1,-1,0,-1,-1,-1,-1,-1,-1],\n",
    "                   [-1,-1,-1,0,-1,100,-1,-1,-1,-1,-1],\n",
    "                    [-1,-1,-1,0,-1,-1,0,-1,-1,-1,-1],\n",
    "                    [-1,0,0,-1,0,-1,-1,-1,-1,0,-1],\n",
    "                    [0,-1,-1,0,-1,-1,-1,-1,0,-1,-1],\n",
    "                    [-1,0,-1,-1,-1,-1,-1,0,-1,-1,-1],\n",
    "                    [-1,-1,0,-1,-1,-1,-1,0,-1,-1,-1],\n",
    "                    [-1,-1,-1,-1,-1,0,0,-1,-1,-1,-1],\n",
    "                    [-1,-1,-1,-1,0,-1,-1,-1,-1,0,-1],\n",
    "                    [-1,-1,-1,0,-1,-1,-1,-1,0,-1,0],\n",
    "                    [-1,-1,-1,-1,-1,-1,-1,-1,-1,0,-1]])\n",
    "\n",
    "pd.DataFrame(rewards)"
   ]
  },
  {
   "cell_type": "markdown",
   "metadata": {},
   "source": [
    "## Initialising the q-matrix with zeroes"
   ]
  },
  {
   "cell_type": "code",
   "execution_count": 3,
   "metadata": {},
   "outputs": [
    {
     "data": {
      "text/html": [
       "<div>\n",
       "<style scoped>\n",
       "    .dataframe tbody tr th:only-of-type {\n",
       "        vertical-align: middle;\n",
       "    }\n",
       "\n",
       "    .dataframe tbody tr th {\n",
       "        vertical-align: top;\n",
       "    }\n",
       "\n",
       "    .dataframe thead th {\n",
       "        text-align: right;\n",
       "    }\n",
       "</style>\n",
       "<table border=\"1\" class=\"dataframe\">\n",
       "  <thead>\n",
       "    <tr style=\"text-align: right;\">\n",
       "      <th></th>\n",
       "      <th>0</th>\n",
       "      <th>1</th>\n",
       "      <th>2</th>\n",
       "      <th>3</th>\n",
       "      <th>4</th>\n",
       "      <th>5</th>\n",
       "      <th>6</th>\n",
       "      <th>7</th>\n",
       "      <th>8</th>\n",
       "      <th>9</th>\n",
       "      <th>10</th>\n",
       "    </tr>\n",
       "  </thead>\n",
       "  <tbody>\n",
       "    <tr>\n",
       "      <th>0</th>\n",
       "      <td>0.0</td>\n",
       "      <td>0.0</td>\n",
       "      <td>0.0</td>\n",
       "      <td>0.0</td>\n",
       "      <td>0.0</td>\n",
       "      <td>0.0</td>\n",
       "      <td>0.0</td>\n",
       "      <td>0.0</td>\n",
       "      <td>0.0</td>\n",
       "      <td>0.0</td>\n",
       "      <td>0.0</td>\n",
       "    </tr>\n",
       "    <tr>\n",
       "      <th>1</th>\n",
       "      <td>0.0</td>\n",
       "      <td>0.0</td>\n",
       "      <td>0.0</td>\n",
       "      <td>0.0</td>\n",
       "      <td>0.0</td>\n",
       "      <td>0.0</td>\n",
       "      <td>0.0</td>\n",
       "      <td>0.0</td>\n",
       "      <td>0.0</td>\n",
       "      <td>0.0</td>\n",
       "      <td>0.0</td>\n",
       "    </tr>\n",
       "    <tr>\n",
       "      <th>2</th>\n",
       "      <td>0.0</td>\n",
       "      <td>0.0</td>\n",
       "      <td>0.0</td>\n",
       "      <td>0.0</td>\n",
       "      <td>0.0</td>\n",
       "      <td>0.0</td>\n",
       "      <td>0.0</td>\n",
       "      <td>0.0</td>\n",
       "      <td>0.0</td>\n",
       "      <td>0.0</td>\n",
       "      <td>0.0</td>\n",
       "    </tr>\n",
       "    <tr>\n",
       "      <th>3</th>\n",
       "      <td>0.0</td>\n",
       "      <td>0.0</td>\n",
       "      <td>0.0</td>\n",
       "      <td>0.0</td>\n",
       "      <td>0.0</td>\n",
       "      <td>0.0</td>\n",
       "      <td>0.0</td>\n",
       "      <td>0.0</td>\n",
       "      <td>0.0</td>\n",
       "      <td>0.0</td>\n",
       "      <td>0.0</td>\n",
       "    </tr>\n",
       "    <tr>\n",
       "      <th>4</th>\n",
       "      <td>0.0</td>\n",
       "      <td>0.0</td>\n",
       "      <td>0.0</td>\n",
       "      <td>0.0</td>\n",
       "      <td>0.0</td>\n",
       "      <td>0.0</td>\n",
       "      <td>0.0</td>\n",
       "      <td>0.0</td>\n",
       "      <td>0.0</td>\n",
       "      <td>0.0</td>\n",
       "      <td>0.0</td>\n",
       "    </tr>\n",
       "    <tr>\n",
       "      <th>5</th>\n",
       "      <td>0.0</td>\n",
       "      <td>0.0</td>\n",
       "      <td>0.0</td>\n",
       "      <td>0.0</td>\n",
       "      <td>0.0</td>\n",
       "      <td>0.0</td>\n",
       "      <td>0.0</td>\n",
       "      <td>0.0</td>\n",
       "      <td>0.0</td>\n",
       "      <td>0.0</td>\n",
       "      <td>0.0</td>\n",
       "    </tr>\n",
       "    <tr>\n",
       "      <th>6</th>\n",
       "      <td>0.0</td>\n",
       "      <td>0.0</td>\n",
       "      <td>0.0</td>\n",
       "      <td>0.0</td>\n",
       "      <td>0.0</td>\n",
       "      <td>0.0</td>\n",
       "      <td>0.0</td>\n",
       "      <td>0.0</td>\n",
       "      <td>0.0</td>\n",
       "      <td>0.0</td>\n",
       "      <td>0.0</td>\n",
       "    </tr>\n",
       "    <tr>\n",
       "      <th>7</th>\n",
       "      <td>0.0</td>\n",
       "      <td>0.0</td>\n",
       "      <td>0.0</td>\n",
       "      <td>0.0</td>\n",
       "      <td>0.0</td>\n",
       "      <td>0.0</td>\n",
       "      <td>0.0</td>\n",
       "      <td>0.0</td>\n",
       "      <td>0.0</td>\n",
       "      <td>0.0</td>\n",
       "      <td>0.0</td>\n",
       "    </tr>\n",
       "    <tr>\n",
       "      <th>8</th>\n",
       "      <td>0.0</td>\n",
       "      <td>0.0</td>\n",
       "      <td>0.0</td>\n",
       "      <td>0.0</td>\n",
       "      <td>0.0</td>\n",
       "      <td>0.0</td>\n",
       "      <td>0.0</td>\n",
       "      <td>0.0</td>\n",
       "      <td>0.0</td>\n",
       "      <td>0.0</td>\n",
       "      <td>0.0</td>\n",
       "    </tr>\n",
       "    <tr>\n",
       "      <th>9</th>\n",
       "      <td>0.0</td>\n",
       "      <td>0.0</td>\n",
       "      <td>0.0</td>\n",
       "      <td>0.0</td>\n",
       "      <td>0.0</td>\n",
       "      <td>0.0</td>\n",
       "      <td>0.0</td>\n",
       "      <td>0.0</td>\n",
       "      <td>0.0</td>\n",
       "      <td>0.0</td>\n",
       "      <td>0.0</td>\n",
       "    </tr>\n",
       "    <tr>\n",
       "      <th>10</th>\n",
       "      <td>0.0</td>\n",
       "      <td>0.0</td>\n",
       "      <td>0.0</td>\n",
       "      <td>0.0</td>\n",
       "      <td>0.0</td>\n",
       "      <td>0.0</td>\n",
       "      <td>0.0</td>\n",
       "      <td>0.0</td>\n",
       "      <td>0.0</td>\n",
       "      <td>0.0</td>\n",
       "      <td>0.0</td>\n",
       "    </tr>\n",
       "  </tbody>\n",
       "</table>\n",
       "</div>"
      ],
      "text/plain": [
       "     0    1    2    3    4    5    6    7    8    9    10\n",
       "0   0.0  0.0  0.0  0.0  0.0  0.0  0.0  0.0  0.0  0.0  0.0\n",
       "1   0.0  0.0  0.0  0.0  0.0  0.0  0.0  0.0  0.0  0.0  0.0\n",
       "2   0.0  0.0  0.0  0.0  0.0  0.0  0.0  0.0  0.0  0.0  0.0\n",
       "3   0.0  0.0  0.0  0.0  0.0  0.0  0.0  0.0  0.0  0.0  0.0\n",
       "4   0.0  0.0  0.0  0.0  0.0  0.0  0.0  0.0  0.0  0.0  0.0\n",
       "5   0.0  0.0  0.0  0.0  0.0  0.0  0.0  0.0  0.0  0.0  0.0\n",
       "6   0.0  0.0  0.0  0.0  0.0  0.0  0.0  0.0  0.0  0.0  0.0\n",
       "7   0.0  0.0  0.0  0.0  0.0  0.0  0.0  0.0  0.0  0.0  0.0\n",
       "8   0.0  0.0  0.0  0.0  0.0  0.0  0.0  0.0  0.0  0.0  0.0\n",
       "9   0.0  0.0  0.0  0.0  0.0  0.0  0.0  0.0  0.0  0.0  0.0\n",
       "10  0.0  0.0  0.0  0.0  0.0  0.0  0.0  0.0  0.0  0.0  0.0"
      ]
     },
     "execution_count": 3,
     "metadata": {},
     "output_type": "execute_result"
    }
   ],
   "source": [
    "def initialize_q(m,n):\n",
    "    return np.zeros((m,n))\n",
    "\n",
    "q_matrix = initialize_q(11,11)\n",
    "pd.DataFrame(q_matrix)"
   ]
  },
  {
   "cell_type": "code",
   "execution_count": 4,
   "metadata": {},
   "outputs": [],
   "source": [
    "def normalize_matrix(q_matrix):\n",
    "    normalized_q = q_matrix/max(q_matrix[q_matrix.nonzero()]) * 100\n",
    "    return normalized_q.astype(int)"
   ]
  },
  {
   "cell_type": "code",
   "execution_count": 5,
   "metadata": {},
   "outputs": [],
   "source": [
    "def set_initial_state(rooms = 11):\n",
    "    return np.random.randint(0,rooms)"
   ]
  },
  {
   "cell_type": "markdown",
   "metadata": {},
   "source": [
    "## Simple Q-Learning Model Building to reach Goal State(i.e. 5)"
   ]
  },
  {
   "cell_type": "code",
   "execution_count": 7,
   "metadata": {},
   "outputs": [],
   "source": [
    "def train_agent(episode):\n",
    "    gamma=0.8\n",
    "    Time_step = 0\n",
    "    current_state = set_initial_state()\n",
    "\n",
    "    while True:\n",
    "        valid_actions = []\n",
    "        for action in enumerate(rewards[current_state]):\n",
    "            if action[1]!= -1:\n",
    "                valid_actions +=[action[0]]\n",
    "        action = random.choice(valid_actions)\n",
    "        cur_state_reward= rewards[current_state, action] \n",
    "        nxt_state_reward= max(q_matrix[action,])\n",
    "        q_current_state= cur_state_reward+(gamma*nxt_state_reward)\n",
    "        q_matrix[current_state, action]=q_current_state \n",
    "        new_state= action\n",
    "        print(q_matrix)\n",
    "        print(f\"Old State: {current_state} | New State: {new_state}\\n\\n\")\n",
    "        current_state = new_state\n",
    "        Time_step = Time_step +1\n",
    "\n",
    "        if new_state== 5:\n",
    "            print(f\"Agent has reached it's goal!\")\n",
    "            print(f\"The Total Timesteps took by Agent for this episode {episode} is\",Time_step)\n",
    "            break\n",
    "    return Time_step,q_matrix"
   ]
  },
  {
   "cell_type": "markdown",
   "metadata": {},
   "source": [
    "## Full training for the Agent"
   ]
  },
  {
   "cell_type": "code",
   "execution_count": null,
   "metadata": {},
   "outputs": [],
   "source": [
    "iterations = 500\n",
    "Total_steps = 0\n",
    "Learning_step_bi = []\n",
    "rewards_curve_bi = []\n",
    "for episode in range(1,iterations):\n",
    "    steps,q_matrix = train_agent(episode) \n",
    "    rewards_curve_bi.append(np.sum(q_matrix))\n",
    "    Learning_step_bi.append(Total_steps + steps)\n",
    "    Total_steps = Total_steps + steps\n",
    "print(\"Total Steps for full learning Process:\",Total_steps)"
   ]
  },
  {
   "cell_type": "markdown",
   "metadata": {},
   "source": [
    "## Normalised q-matrix after an agent is trained"
   ]
  },
  {
   "cell_type": "code",
   "execution_count": null,
   "metadata": {},
   "outputs": [],
   "source": [
    "print('The final updated Q-Table after Training:\\n',pd.DataFrame(normalize_matrix(q_matrix)))"
   ]
  },
  {
   "cell_type": "markdown",
   "metadata": {},
   "source": [
    "## Challenges of the Simple Q-Learning Model\n",
    "- Required more Timesteps for reaching goal in each episode\n",
    "- Required more episodes\n",
    "- Needed more computation power as the environment size increases\n",
    "- Required more time for Agent to learn "
   ]
  },
  {
   "cell_type": "markdown",
   "metadata": {},
   "source": [
    "## Optimised Q-Learning Model Implementation to reach Goal State"
   ]
  },
  {
   "cell_type": "markdown",
   "metadata": {},
   "source": [
    "## For a larger grid \n",
    "- The number of transistions an agent makes in a single episode is too high which increases the space and time complexity.\n",
    "- Therefore, to have optimized results, a heuristic function is required which would Approximate the q-learning algorithm.\n",
    "- Below is the one of a kind heuristic function used for Improving Q-Learning Model\n",
    "    - Eachtime the valid actions for the current state are stored, those are compared with the already visited action for the by the agent, if valid action is already visited, then it is removed for the valid action and agent will not visit it for the epsiode.\n",
    "    - This will drastically reduce the total number of transistions that agent makes through its training.\n"
   ]
  },
  {
   "cell_type": "code",
   "execution_count": null,
   "metadata": {},
   "outputs": [],
   "source": [
    "def initialize_q(m,n):\n",
    "    return np.zeros((m,n))\n",
    "\n",
    "q_matrix = initialize_q(11,11)\n",
    "pd.DataFrame(q_matrix)"
   ]
  },
  {
   "cell_type": "code",
   "execution_count": null,
   "metadata": {},
   "outputs": [],
   "source": [
    "def train_agent(episode):\n",
    "    gamma=0.8\n",
    "    Time_step = 0\n",
    "    current_state = set_initial_state()\n",
    "    \n",
    "    visited_actions = []\n",
    "    while True:\n",
    "        valid_actions = []\n",
    "        temp_value = 0\n",
    "        for action in enumerate(rewards[current_state]):\n",
    "            if action[1]!= -1:\n",
    "                temp_value = action[0]\n",
    "                valid_actions +=[action[0]]\n",
    "                if action[0] in visited_actions:\n",
    "                    index = valid_actions.index(action[0])\n",
    "                    valid_actions.pop(index)\n",
    "        if len(valid_actions) == 0:\n",
    "            break\n",
    "        action = random.choice(valid_actions)\n",
    "        visited_actions.append(action)\n",
    "        cur_state_reward= rewards[current_state, action] \n",
    "        nxt_state_reward= max(q_matrix[action,])\n",
    "        q_current_state= cur_state_reward+(gamma*nxt_state_reward)\n",
    "        q_matrix[current_state, action]=q_current_state \n",
    "        new_state= action\n",
    "        print(q_matrix)\n",
    "        print(f\"Old State: {current_state} | New State: {new_state}\\n\\n\")\n",
    "        current_state = new_state\n",
    "        Time_step = Time_step +1\n",
    "\n",
    "        if new_state== 5:\n",
    "            print(f\"Agent has reached it's goal!\")\n",
    "            print(f\"The Total Timesteps took by Agent for this episode {episode} is\",Time_step)\n",
    "            break\n",
    "    return Time_step,q_matrix"
   ]
  },
  {
   "cell_type": "markdown",
   "metadata": {},
   "source": [
    "## Full Training for the Agent"
   ]
  },
  {
   "cell_type": "code",
   "execution_count": null,
   "metadata": {},
   "outputs": [],
   "source": [
    "iterations = 500\n",
    "Total_steps = 0\n",
    "Learning_step_ai = []\n",
    "rewards_curve_ai = []\n",
    "for episode in range(1,iterations):\n",
    "    steps,q_matrix = train_agent(episode)\n",
    "    rewards_curve_ai.append(np.sum(q_matrix))\n",
    "    Learning_step_ai.append(Total_steps + steps)\n",
    "    Total_steps = Total_steps + steps\n",
    "    \n",
    "print(\"Total Steps for full learning Process:\",Total_steps)"
   ]
  },
  {
   "cell_type": "markdown",
   "metadata": {},
   "source": [
    "## Normalised q-matrix after an agent is trained"
   ]
  },
  {
   "cell_type": "code",
   "execution_count": null,
   "metadata": {},
   "outputs": [],
   "source": [
    "print('The final updated Q-Table after Training:\\n',pd.DataFrame(normalize_matrix(q_matrix)))"
   ]
  },
  {
   "cell_type": "markdown",
   "metadata": {},
   "source": [
    "# Test metrics for the q-learning agent performance when heuristic is applied"
   ]
  },
  {
   "cell_type": "code",
   "execution_count": null,
   "metadata": {},
   "outputs": [],
   "source": [
    "plt.figure(figsize = (20,5))\n",
    "plt.subplot(1,2,1)\n",
    "plt.ylim(0,15000)\n",
    "plt.plot(range(1,500),Learning_step_bi, label = 'Without Heuristic')\n",
    "plt.plot(range(1,500),Learning_step_ai, label = 'Using Heuristic')\n",
    "plt.title('Q-Learning Model Learning Process')\n",
    "plt.xlabel('Number of Iterations')\n",
    "plt.ylabel('Total Cummulative Steps')\n",
    "plt.legend()\n",
    "plt.show()"
   ]
  },
  {
   "cell_type": "markdown",
   "metadata": {},
   "source": [
    "# Visualising total rewards for an agent \n",
    "## simple Q-learning algorithm Vs Q-learning algorithm with a heuristic function"
   ]
  },
  {
   "cell_type": "code",
   "execution_count": null,
   "metadata": {
    "scrolled": true
   },
   "outputs": [],
   "source": [
    "plt.figure(figsize = (20,5))\n",
    "plt.subplot(1,2,1)\n",
    "plt.ylim(0,4000)\n",
    "plt.plot(range(1,500),rewards_curve_bi)\n",
    "plt.title('Q-Learning Rewards Learning Process - Without Heuristic')\n",
    "plt.xlabel('Number of Iterations')\n",
    "plt.ylabel('Total Cummulative Rewards')\n",
    "\n",
    "plt.subplot(1,2,2)\n",
    "plt.ylim(0,4000)\n",
    "plt.plot(range(1,500),rewards_curve_ai)\n",
    "plt.title('Q-Learning Rewards Learning Process - With Heuristic')\n",
    "plt.xlabel('Number of Iterations')\n",
    "plt.ylabel('Total Cummulative Rewards')\n",
    "\n",
    "plt.show()"
   ]
  },
  {
   "cell_type": "markdown",
   "metadata": {},
   "source": [
    "## Deploying the agent"
   ]
  },
  {
   "cell_type": "code",
   "execution_count": null,
   "metadata": {},
   "outputs": [],
   "source": [
    "def deploy_agent(init_state,q_table):\n",
    "    print(\"start state:\", init_state)\n",
    "    state = init_state\n",
    "    steps = 0\n",
    "    while True:\n",
    "        steps = steps + 1\n",
    "        action = np.argmax(q_table[state,:])\n",
    "        print(action)\n",
    "        state = action\n",
    "        if action == 5:\n",
    "            print('Goal Reached!')\n",
    "            return steps"
   ]
  },
  {
   "cell_type": "markdown",
   "metadata": {},
   "source": [
    "## Testing the Agent"
   ]
  },
  {
   "cell_type": "code",
   "execution_count": null,
   "metadata": {},
   "outputs": [],
   "source": [
    "Start_state = 8\n",
    "steps = deploy_agent(Start_state,q_matrix)\n",
    "print(\"Number of Steps took by Agent to reach Goal:\",steps)"
   ]
  },
  {
   "cell_type": "markdown",
   "metadata": {},
   "source": [
    "## Evaluation Metrics for Q-Learning Model\n",
    "- Updated Q-Table \n",
    "    - Initally Q table is Initialied with zeroes, once the training is completed, Q-Table is updated with the Maximum rewards for the each state, action pair which helps the agent to choose the best action in that particular state\n",
    "- Rewards Learning\n",
    "    - For each episode , reward is calculated and updated Q-Table and the reward learning progress graph is shown above.\n",
    "- Total Number of Timesteps for the complete Training process\n",
    "    - Upon using the Heuristic fuction, the search process computing process is improved and Q-Table is updated with the Maximum rewards with the least number of Timesteps for episode.\n",
    "- Total Regrets\n",
    "    - Even upon the successful training, there will always be the chance of regrets for the agent not to choose the optimal path towards the goal. In our Q-learning model even after success training, we can see 1 regret for the state 6 in which agent miss to choose the optimal path and rather used more steps to reach the goal. "
   ]
  },
  {
   "cell_type": "markdown",
   "metadata": {},
   "source": [
    "## Conclusion\n",
    "- Q-Learning Model using Heuristic function outperfom the Simple Q-Learning Model intems of performance. \n",
    "- We can see the huge reduction of total number of time steps for Q-Learning Model using Heuristic Function.\n",
    "- Agent learns quickly in Q-Learning Model using Heuristic "
   ]
  },
  {
   "cell_type": "code",
   "execution_count": null,
   "metadata": {},
   "outputs": [],
   "source": []
  }
 ],
 "metadata": {
  "kernelspec": {
   "display_name": "Python 3",
   "language": "python",
   "name": "python3"
  },
  "language_info": {
   "codemirror_mode": {
    "name": "ipython",
    "version": 3
   },
   "file_extension": ".py",
   "mimetype": "text/x-python",
   "name": "python",
   "nbconvert_exporter": "python",
   "pygments_lexer": "ipython3",
   "version": "3.8.3"
  }
 },
 "nbformat": 4,
 "nbformat_minor": 2
}
